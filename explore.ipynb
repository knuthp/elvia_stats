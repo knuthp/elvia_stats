{
 "cells": [
  {
   "cell_type": "code",
   "execution_count": null,
   "metadata": {},
   "outputs": [],
   "source": [
    "from elvia_stats.metervalueapi import get_metervalues\n",
    "import pandas as pd\n",
    "import altair as alt"
   ]
  },
  {
   "cell_type": "code",
   "execution_count": null,
   "metadata": {},
   "outputs": [],
   "source": [
    "json = get_metervalues(2021)"
   ]
  },
  {
   "cell_type": "code",
   "execution_count": null,
   "metadata": {},
   "outputs": [],
   "source": [
    "df = pd.json_normalize(\n",
    "    json[\"meteringpoints\"][0], record_path=[\"metervalue\", \"timeSeries\"]\n",
    ")"
   ]
  },
  {
   "cell_type": "markdown",
   "metadata": {},
   "source": [
    "## Handle time\n",
    "Time is read as string. We should convert it to a datetime. \n",
    "\n",
    "Using pd.to_datetime() did not return a timezone aware column type. Seems to be a problem with summer/winter time hence we convert to UTC and then to \"Europe/Oslo\" timezone instead of +01 or +02"
   ]
  },
  {
   "cell_type": "code",
   "execution_count": null,
   "metadata": {},
   "outputs": [],
   "source": [
    "df[\"startTimeStr\"] = df[\"startTime\"]\n",
    "df[\"startTime\"] = pd.to_datetime(df[\"startTime\"], utc=True).dt.tz_convert(\"Europe/Oslo\")\n",
    "df[\"endTime\"] = pd.to_datetime(df[\"endTime\"], utc=True).dt.tz_convert(\"Europe/Oslo\")\n",
    "df.describe()"
   ]
  },
  {
   "cell_type": "code",
   "execution_count": null,
   "metadata": {},
   "outputs": [],
   "source": [
    "df.head()"
   ]
  },
  {
   "cell_type": "code",
   "execution_count": null,
   "metadata": {},
   "outputs": [],
   "source": [
    "alt.Chart(df[[\"startTime\", \"value\"]].tail(24 * 30)).mark_bar().encode(\n",
    "    x=\"startTime:T\", y=\"value\", tooltip=[\"startTime:T\", \"value\"]\n",
    ")"
   ]
  },
  {
   "cell_type": "code",
   "execution_count": null,
   "metadata": {},
   "outputs": [],
   "source": [
    "df[\"hour\"] = df[\"startTime\"].dt.hour\n",
    "df[\"weekday\"] = df[\"startTime\"].dt.weekday\n",
    "df[\"date\"] = df[\"startTime\"].dt.date.astype(str)\n",
    "df[\"month\"] = df[\"startTime\"].dt.month\n",
    "df.dtypes"
   ]
  },
  {
   "cell_type": "code",
   "execution_count": null,
   "metadata": {},
   "outputs": [],
   "source": [
    "alt.Chart(df[[\"hour\", \"value\"]].tail(24 * 30)).mark_boxplot().encode(\n",
    "    x=alt.X(\"hour\"), y=alt.Y(\"value\")\n",
    ")"
   ]
  },
  {
   "cell_type": "code",
   "execution_count": null,
   "metadata": {},
   "outputs": [],
   "source": [
    "df.sort_values(\"value\", ascending=False).head()"
   ]
  },
  {
   "cell_type": "code",
   "execution_count": null,
   "metadata": {},
   "outputs": [],
   "source": [
    "df_max_per_day = df[[\"startTime\", \"value\"]].groupby(by=df[\"startTime\"].dt.date).max()\n",
    "df_max_per_day"
   ]
  },
  {
   "cell_type": "code",
   "execution_count": null,
   "metadata": {},
   "outputs": [],
   "source": [
    "df_max_per_day.plot(y=\"value\")"
   ]
  },
  {
   "cell_type": "code",
   "execution_count": null,
   "metadata": {},
   "outputs": [],
   "source": [
    "df_max_per_week = (\n",
    "    df[[\"startTime\", \"value\"]].groupby(by=df[\"startTime\"].dt.isocalendar().week).max()\n",
    ")\n",
    "df_max_per_week"
   ]
  },
  {
   "cell_type": "code",
   "execution_count": null,
   "metadata": {},
   "outputs": [],
   "source": [
    "df_max_per_week.plot(y=\"value\")"
   ]
  },
  {
   "cell_type": "code",
   "execution_count": null,
   "metadata": {},
   "outputs": [],
   "source": [
    "df_max_per_month = df[[\"startTime\", \"value\"]].groupby(by=df[\"startTime\"].dt.month).max()\n",
    "df_max_per_month"
   ]
  },
  {
   "cell_type": "code",
   "execution_count": null,
   "metadata": {},
   "outputs": [],
   "source": [
    "df_max_per_month.plot(y=\"value\")"
   ]
  },
  {
   "cell_type": "code",
   "execution_count": null,
   "metadata": {},
   "outputs": [],
   "source": [
    "df.loc[\n",
    "    df[[\"startTime\", \"value\"]].groupby(by=df[\"startTime\"].dt.month).idxmax()[\"value\"]\n",
    "]"
   ]
  },
  {
   "cell_type": "markdown",
   "metadata": {},
   "source": [
    "# New nettleie models\n",
    "[Example models used](https://kommunikasjon.ntb.no/pressemelding/elvia-ruller-ut-pilot-for-ny-nettleie?publisherId=17847555&releaseId=17896111)\n",
    "\n",
    "| Nettleie                       Dag&Natt       |         Sommer |        Vinter |\n",
    "| -------------------------------------------   | -------------- | ------------- |\n",
    "| Energiledd hverdag, kl. 06-22                 | 27,65 øre/kWh  | 71,70 øre/kWh |\n",
    "| Energiledd natt og helg*                      | 25,15 øre/kWh  | 28,90 øre/kWh |\n",
    "| Fastledd Innlandet                            | 200 kr/mnd     |    200 kr/mnd |  \n",
    "| Fastledd Oslo/Viken                           | 115 kr/mnd     |    115 kr/mnd |\n",
    "\n",
    "* Helg er hele lørdag, søndag og offentlige fridager. Sommer er fra april til og med oktober. Vinter er fra november til og med mars."
   ]
  },
  {
   "cell_type": "code",
   "execution_count": null,
   "metadata": {},
   "outputs": [],
   "source": [
    "df_line_rental_prices = pd.DataFrame(\n",
    "    [\n",
    "        [\"summer_day\", 0.2765],\n",
    "        [\"summer_night\", 0.2515],\n",
    "        [\"winter_day\", 0.7170],\n",
    "        [\"winter_night\", 0.2890],\n",
    "    ],\n",
    "    columns=[\"line_rental_period\", \"line_rental_cost_nok_per_kwh\"],\n",
    ")\n",
    "df_line_rental_prices"
   ]
  },
  {
   "cell_type": "code",
   "execution_count": null,
   "metadata": {},
   "outputs": [],
   "source": [
    "df"
   ]
  },
  {
   "cell_type": "code",
   "execution_count": null,
   "metadata": {},
   "outputs": [],
   "source": [
    "df1 = pd.DataFrame(\n",
    "    {\"startTime\": [\"a\", \"b\", \"c\", \"e\"], \"hour\": [4, 5, 6, 7], \"month\": [7, 11, 11, 11]}\n",
    ")\n",
    "df1"
   ]
  },
  {
   "cell_type": "code",
   "execution_count": null,
   "metadata": {},
   "outputs": [],
   "source": [
    "def tag_line_rental_nigh_day(df1):\n",
    "    df1[\"line_rental_time_of_day\"] = \"day\"\n",
    "    df1.loc[\n",
    "        (df1[\"hour\"] < 6) | (df1[\"hour\"] >= 22), \"line_rental_time_of_day\"\n",
    "    ] = \"night\"\n",
    "\n",
    "    df1[\"line_rental_season\"] = \"summer\"\n",
    "    df1.loc[(df1[\"month\"] < 4) | (df1[\"month\"] > 10), \"line_rental_season\"] = \"winter\"\n",
    "    df1[\"line_rental_period\"] = (\n",
    "        df1[\"line_rental_season\"] + \"_\" + df1[\"line_rental_time_of_day\"]\n",
    "    )\n",
    "    return df1\n",
    "\n",
    "\n",
    "df1 = tag_line_rental_nigh_day(df1)\n",
    "df1\n",
    "\n",
    "df1"
   ]
  },
  {
   "cell_type": "code",
   "execution_count": null,
   "metadata": {},
   "outputs": [],
   "source": [
    "def add_prices(df1):\n",
    "    return df1.merge(\n",
    "        df_line_rental_prices,\n",
    "        left_on=\"line_rental_period\",\n",
    "        right_on=\"line_rental_period\",\n",
    "    ).sort_values(\"startTime\")\n",
    "\n",
    "\n",
    "add_prices(df1)"
   ]
  },
  {
   "cell_type": "code",
   "execution_count": null,
   "metadata": {},
   "outputs": [],
   "source": [
    "add_prices(tag_line_rental_nigh_day(df))"
   ]
  },
  {
   "cell_type": "code",
   "execution_count": null,
   "metadata": {},
   "outputs": [],
   "source": []
  },
  {
   "cell_type": "code",
   "execution_count": null,
   "metadata": {},
   "outputs": [],
   "source": []
  }
 ],
 "metadata": {
  "interpreter": {
   "hash": "8abc7ae61403bce467b7d0f30416ee8a06051c1f30f827e823a032747fc8e661"
  },
  "kernelspec": {
   "display_name": "Python 3.9.5 64-bit ('.venv': poetry)",
   "name": "python3"
  },
  "language_info": {
   "codemirror_mode": {
    "name": "ipython",
    "version": 3
   },
   "file_extension": ".py",
   "mimetype": "text/x-python",
   "name": "python",
   "nbconvert_exporter": "python",
   "pygments_lexer": "ipython3",
   "version": "3.9.5"
  },
  "orig_nbformat": 4
 },
 "nbformat": 4,
 "nbformat_minor": 2
}
